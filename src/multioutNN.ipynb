{
 "cells": [
  {
   "cell_type": "code",
   "execution_count": 47,
   "metadata": {},
   "outputs": [],
   "source": [
    "import tensorflow as tf\n",
    "from tensorflow.keras.layers import Dense, Flatten, Conv2D, MaxPooling2D, Dropout\n",
    "from tensorflow.keras.losses import sparse_categorical_crossentropy\n",
    "from tensorflow.keras.optimizers import Adam, SGD, RMSprop\n",
    "import pandas as pd\n",
    "import os"
   ]
  },
  {
   "cell_type": "code",
   "execution_count": 48,
   "metadata": {},
   "outputs": [],
   "source": [
    "train_data = pd.read_csv(\n",
    "    r\"/home/hany_jr/Ai/Tensorflow-tutorial/Dataset/Multi_Digit_Mnist/train.csv\"\n",
    ")\n",
    "test_data = pd.read_csv(\n",
    "    r\"/home/hany_jr/Ai/Tensorflow-tutorial/Dataset/Multi_Digit_Mnist/test.csv\"\n",
    ")"
   ]
  },
  {
   "cell_type": "code",
   "execution_count": 49,
   "metadata": {},
   "outputs": [
    {
     "data": {
      "text/html": [
       "<div>\n",
       "<style scoped>\n",
       "    .dataframe tbody tr th:only-of-type {\n",
       "        vertical-align: middle;\n",
       "    }\n",
       "\n",
       "    .dataframe tbody tr th {\n",
       "        vertical-align: top;\n",
       "    }\n",
       "\n",
       "    .dataframe thead th {\n",
       "        text-align: right;\n",
       "    }\n",
       "</style>\n",
       "<table border=\"1\" class=\"dataframe\">\n",
       "  <thead>\n",
       "    <tr style=\"text-align: right;\">\n",
       "      <th></th>\n",
       "      <th>Image</th>\n",
       "      <th>first_num</th>\n",
       "      <th>second_num</th>\n",
       "    </tr>\n",
       "  </thead>\n",
       "  <tbody>\n",
       "    <tr>\n",
       "      <th>0</th>\n",
       "      <td>0_02.png</td>\n",
       "      <td>0</td>\n",
       "      <td>2</td>\n",
       "    </tr>\n",
       "    <tr>\n",
       "      <th>1</th>\n",
       "      <td>100_02.png</td>\n",
       "      <td>0</td>\n",
       "      <td>2</td>\n",
       "    </tr>\n",
       "    <tr>\n",
       "      <th>2</th>\n",
       "      <td>101_02.png</td>\n",
       "      <td>0</td>\n",
       "      <td>2</td>\n",
       "    </tr>\n",
       "    <tr>\n",
       "      <th>3</th>\n",
       "      <td>102_02.png</td>\n",
       "      <td>0</td>\n",
       "      <td>2</td>\n",
       "    </tr>\n",
       "    <tr>\n",
       "      <th>4</th>\n",
       "      <td>103_02.png</td>\n",
       "      <td>0</td>\n",
       "      <td>2</td>\n",
       "    </tr>\n",
       "  </tbody>\n",
       "</table>\n",
       "</div>"
      ],
      "text/plain": [
       "        Image  first_num  second_num\n",
       "0    0_02.png          0           2\n",
       "1  100_02.png          0           2\n",
       "2  101_02.png          0           2\n",
       "3  102_02.png          0           2\n",
       "4  103_02.png          0           2"
      ]
     },
     "execution_count": 49,
     "metadata": {},
     "output_type": "execute_result"
    }
   ],
   "source": [
    "test_data.head()"
   ]
  },
  {
   "cell_type": "code",
   "execution_count": 50,
   "metadata": {},
   "outputs": [],
   "source": [
    "train_images = (\n",
    "    \"/home/hany_jr/Ai/Tensorflow-tutorial/Dataset/Multi_Digit_Mnist/train_images/\"\n",
    "    + train_data.iloc[:, 0]\n",
    ")\n",
    "test_images = (\n",
    "    \"/home/hany_jr/Ai/Tensorflow-tutorial/Dataset/Multi_Digit_Mnist/test_images/\"\n",
    "    + test_data.iloc[:, 0]\n",
    ")\n",
    "\n",
    "train_labels = train_data.iloc[:, 1:]\n",
    "test_labels = test_data.iloc[:, 1:]"
   ]
  },
  {
   "cell_type": "code",
   "execution_count": 51,
   "metadata": {},
   "outputs": [],
   "source": [
    "def read_image(image_path, label):\n",
    "\n",
    "    image = tf.io.read_file(image_path)\n",
    "    image = tf.image.decode_jpeg(image, channels=1)\n",
    "\n",
    "    image.set_shape((64, 64, 1))\n",
    "    label[0].set_shape([])\n",
    "    label[1].set_shape([])\n",
    "\n",
    "    label = {\"first_digit\": label[0], \"second_digit\": label[1]}\n",
    "\n",
    "    return image, label"
   ]
  },
  {
   "cell_type": "code",
   "execution_count": 52,
   "metadata": {},
   "outputs": [],
   "source": [
    "train_dataset = tf.data.Dataset.from_tensor_slices((train_images, train_labels))\n",
    "\n",
    "train_dataset = (\n",
    "    train_dataset.shuffle(buffer_size=len(train_labels))\n",
    "    .map(read_image)\n",
    "    .batch(32)\n",
    "    .prefetch(4)\n",
    ")\n",
    "\n",
    "\n",
    "test_dataset = tf.data.Dataset.from_tensor_slices((test_images, test_labels))\n",
    "\n",
    "test_dataset = test_dataset.map(read_image).batch(32).prefetch(4)"
   ]
  },
  {
   "cell_type": "code",
   "execution_count": 55,
   "metadata": {},
   "outputs": [],
   "source": [
    "def load_model():\n",
    "\n",
    "    inputs = tf.keras.Input(shape=(64, 64, 1))\n",
    "\n",
    "    layer1 = Conv2D(32, (3, 3), activation=\"relu\")(inputs)\n",
    "    layer2 = MaxPooling2D((2, 2))(layer1)\n",
    "    layer3 = Conv2D(64, (3, 3), activation=\"relu\")(layer2)\n",
    "    layer4 = MaxPooling2D((2, 2))(layer3)\n",
    "    layer5 = Conv2D(64, (3, 3), activation=\"relu\")(layer4)\n",
    "    layer6 = Flatten()(layer5)\n",
    "    layer7 = Dense(64, activation=\"relu\")(layer6)\n",
    "    first_digit = Dense(10, activation=\"softmax\", name=\"first_digit\")(layer7)\n",
    "    second_digit = Dense(10, activation=\"softmax\", name=\"second_digit\")(layer7)\n",
    "\n",
    "    model = tf.keras.Model(inputs=inputs, outputs=[first_digit, second_digit])\n",
    "    \n",
    "    return model"
   ]
  },
  {
   "cell_type": "code",
   "execution_count": 56,
   "metadata": {},
   "outputs": [
    {
     "name": "stdout",
     "output_type": "stream",
     "text": [
      "Epoch 1/10\n",
      "\u001b[1m2000/2000\u001b[0m \u001b[32m━━━━━━━━━━━━━━━━━━━━\u001b[0m\u001b[37m\u001b[0m \u001b[1m46s\u001b[0m 22ms/step - first_digit_accuracy: 0.6946 - first_digit_loss: 1.1059 - loss: 2.2169 - second_digit_accuracy: 0.6746 - second_digit_loss: 1.1110\n",
      "Epoch 2/10\n",
      "\u001b[1m2000/2000\u001b[0m \u001b[32m━━━━━━━━━━━━━━━━━━━━\u001b[0m\u001b[37m\u001b[0m \u001b[1m45s\u001b[0m 22ms/step - first_digit_accuracy: 0.9714 - first_digit_loss: 0.0882 - loss: 0.1838 - second_digit_accuracy: 0.9707 - second_digit_loss: 0.0956\n",
      "Epoch 3/10\n",
      "\u001b[1m2000/2000\u001b[0m \u001b[32m━━━━━━━━━━━━━━━━━━━━\u001b[0m\u001b[37m\u001b[0m \u001b[1m45s\u001b[0m 22ms/step - first_digit_accuracy: 0.9825 - first_digit_loss: 0.0568 - loss: 0.1171 - second_digit_accuracy: 0.9804 - second_digit_loss: 0.0603\n",
      "Epoch 4/10\n",
      "\u001b[1m2000/2000\u001b[0m \u001b[32m━━━━━━━━━━━━━━━━━━━━\u001b[0m\u001b[37m\u001b[0m \u001b[1m45s\u001b[0m 22ms/step - first_digit_accuracy: 0.9854 - first_digit_loss: 0.0433 - loss: 0.0883 - second_digit_accuracy: 0.9851 - second_digit_loss: 0.0449\n",
      "Epoch 5/10\n",
      "\u001b[1m2000/2000\u001b[0m \u001b[32m━━━━━━━━━━━━━━━━━━━━\u001b[0m\u001b[37m\u001b[0m \u001b[1m45s\u001b[0m 22ms/step - first_digit_accuracy: 0.9877 - first_digit_loss: 0.0377 - loss: 0.0743 - second_digit_accuracy: 0.9880 - second_digit_loss: 0.0366\n",
      "Epoch 6/10\n",
      "\u001b[1m2000/2000\u001b[0m \u001b[32m━━━━━━━━━━━━━━━━━━━━\u001b[0m\u001b[37m\u001b[0m \u001b[1m45s\u001b[0m 22ms/step - first_digit_accuracy: 0.9889 - first_digit_loss: 0.0350 - loss: 0.0700 - second_digit_accuracy: 0.9884 - second_digit_loss: 0.0350\n",
      "Epoch 7/10\n",
      "\u001b[1m2000/2000\u001b[0m \u001b[32m━━━━━━━━━━━━━━━━━━━━\u001b[0m\u001b[37m\u001b[0m \u001b[1m82s\u001b[0m 22ms/step - first_digit_accuracy: 0.9902 - first_digit_loss: 0.0311 - loss: 0.0587 - second_digit_accuracy: 0.9910 - second_digit_loss: 0.0276\n",
      "Epoch 8/10\n",
      "\u001b[1m2000/2000\u001b[0m \u001b[32m━━━━━━━━━━━━━━━━━━━━\u001b[0m\u001b[37m\u001b[0m \u001b[1m44s\u001b[0m 22ms/step - first_digit_accuracy: 0.9917 - first_digit_loss: 0.0266 - loss: 0.0555 - second_digit_accuracy: 0.9908 - second_digit_loss: 0.0289\n",
      "Epoch 9/10\n",
      "\u001b[1m2000/2000\u001b[0m \u001b[32m━━━━━━━━━━━━━━━━━━━━\u001b[0m\u001b[37m\u001b[0m \u001b[1m44s\u001b[0m 22ms/step - first_digit_accuracy: 0.9934 - first_digit_loss: 0.0206 - loss: 0.0415 - second_digit_accuracy: 0.9932 - second_digit_loss: 0.0208\n",
      "Epoch 10/10\n",
      "\u001b[1m2000/2000\u001b[0m \u001b[32m━━━━━━━━━━━━━━━━━━━━\u001b[0m\u001b[37m\u001b[0m \u001b[1m82s\u001b[0m 22ms/step - first_digit_accuracy: 0.9932 - first_digit_loss: 0.0233 - loss: 0.0437 - second_digit_accuracy: 0.9936 - second_digit_loss: 0.0205\n"
     ]
    },
    {
     "data": {
      "text/plain": [
       "<keras.src.callbacks.history.History at 0x7773083eac90>"
      ]
     },
     "execution_count": 56,
     "metadata": {},
     "output_type": "execute_result"
    }
   ],
   "source": [
    "multi_digit_model = load_model()\n",
    "\n",
    "multi_digit_model.compile(\n",
    "    optimizer=Adam(),\n",
    "    loss={\"first_digit\": sparse_categorical_crossentropy, \"second_digit\": sparse_categorical_crossentropy},\n",
    "    metrics=[\"accuracy\", \"accuracy\"],\n",
    ")\n",
    "multi_digit_model.fit(train_dataset, epochs=10)\n"
   ]
  },
  {
   "cell_type": "code",
   "execution_count": 74,
   "metadata": {},
   "outputs": [
    {
     "name": "stdout",
     "output_type": "stream",
     "text": [
      "\u001b[1m1/1\u001b[0m \u001b[32m━━━━━━━━━━━━━━━━━━━━\u001b[0m\u001b[37m\u001b[0m \u001b[1m0s\u001b[0m 16ms/step\n"
     ]
    },
    {
     "data": {
      "text/plain": [
       "(0, 2)"
      ]
     },
     "execution_count": 74,
     "metadata": {},
     "output_type": "execute_result"
    }
   ],
   "source": [
    "\n",
    "\n",
    "image = test_dataset.take(1).as_numpy_iterator().next()[0]\n",
    "\n",
    "singel_image = image[1] \n",
    "singel_image = singel_image.reshape(1, 64, 64, 1)\n",
    "predictions = multi_digit_model.predict(singel_image)\n",
    "first_digit = predictions[0].argmax(), second_digit = predictions[1].argmax()\n",
    "first_digit, second_digit"
   ]
  },
  {
   "cell_type": "code",
   "execution_count": 76,
   "metadata": {},
   "outputs": [
    {
     "data": {
      "text/plain": [
       "Text(0.5, 1.0, 'Predicted: 0, 2')"
      ]
     },
     "execution_count": 76,
     "metadata": {},
     "output_type": "execute_result"
    },
    {
     "data": {
      "image/png": "[encoded data removed]",
      "text/plain": [
       "<Figure size 640x480 with 1 Axes>"
      ]
     },
     "metadata": {},
     "output_type": "display_data"
    }
   ],
   "source": [
    "import matplotlib.pyplot as plt\n",
    "plt.imshow(singel_image.reshape(64, 64), cmap=\"gray\")\n",
    "plt.title(f\"Predicted: {first_digit}, {second_digit}\")"
   ]
  },
  {
   "cell_type": "code",
   "execution_count": null,
   "metadata": {},
   "outputs": [],
   "source": []
  }
 ],
 "metadata": {
  "kernelspec": {
   "display_name": "base",
   "language": "python",
   "name": "python3"
  },
  "language_info": {
   "codemirror_mode": {
    "name": "ipython",
    "version": 3
   },
   "file_extension": ".py",
   "mimetype": "text/x-python",
   "name": "python",
   "nbconvert_exporter": "python",
   "pygments_lexer": "ipython3",
   "version": "3.12.2"
  }
 },
 "nbformat": 4,
 "nbformat_minor": 2
}
